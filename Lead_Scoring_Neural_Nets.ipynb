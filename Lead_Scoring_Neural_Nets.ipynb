{
  "nbformat": 4,
  "nbformat_minor": 0,
  "metadata": {
    "colab": {
      "name": "Lead_Scoring_Neural_Nets",
      "provenance": [],
      "collapsed_sections": [],
      "include_colab_link": true
    },
    "kernelspec": {
      "name": "python2",
      "display_name": "Python 2"
    },
    "accelerator": "GPU"
  },
  "cells": [
    {
      "cell_type": "markdown",
      "metadata": {
        "id": "view-in-github",
        "colab_type": "text"
      },
      "source": [
        "<a href=\"https://colab.research.google.com/github/marchaem/Binomial-classification-tensorflow/blob/master/Lead_Scoring_Neural_Nets.ipynb\" target=\"_parent\"><img src=\"https://colab.research.google.com/assets/colab-badge.svg\" alt=\"Open In Colab\"/></a>"
      ]
    },
    {
      "cell_type": "markdown",
      "metadata": {
        "id": "j4ZlwFn0CvTF",
        "colab_type": "text"
      },
      "source": [
        "# <font color=Darkred>Neural Networks for Binomial Classification</font>\n",
        "\n",
        "---\n",
        "\n",
        "\n",
        "## <font color=Darkblue>Developing Deep Learning with Keras  </font>\n",
        "\n",
        "> __*Using Google Colab*__"
      ]
    },
    {
      "cell_type": "markdown",
      "metadata": {
        "id": "RwiW6KIPicS5",
        "colab_type": "text"
      },
      "source": [
        "In this exercise, we are going to build a lead scoring model using a neural network model.\n",
        "<br>\n",
        "\n",
        "The goal is to predict the probability that a customer is a qualified lead for a demo.\n",
        "<br>\n",
        "\n",
        "This is done by building a *binomial classifier*. It makes a guess at the probability of being a qualified lead by applying supervised learning to past data containing demographics and behavioural information of users in the last 90 days.\n",
        "<br>"
      ]
    },
    {
      "cell_type": "markdown",
      "metadata": {
        "id": "iKhhyzBWO7TW",
        "colab_type": "text"
      },
      "source": [
        "<br><br>\n",
        "### <font color=Darkred> 1. Import the basic Python libraries:</font>\n",
        "\n",
        "*   **numpy**: scientific computing in Python.\n",
        "*   **pandas**: data manipulation and analysis. In particular, it offers data structures and operations for manipulating numerical tables.\n",
        "*   **mathplotlib** 2D plotting of publication-quality figures in a variety of hardcopy formats and interactive environments."
      ]
    },
    {
      "cell_type": "code",
      "metadata": {
        "id": "Dhcc-4B7O-_C",
        "colab_type": "code",
        "colab": {}
      },
      "source": [
        "import numpy as np\n",
        "import pandas as pd\n",
        "import matplotlib.pyplot as plt"
      ],
      "execution_count": 0,
      "outputs": []
    },
    {
      "cell_type": "markdown",
      "metadata": {
        "id": "G_Jku7vHC2fU",
        "colab_type": "text"
      },
      "source": [
        "<br><br>\n",
        "### <font color=Darkred>2. Upload the dataset</font>\n"
      ]
    },
    {
      "cell_type": "code",
      "metadata": {
        "id": "FfT8T8SnKnus",
        "colab_type": "code",
        "colab": {}
      },
      "source": [
        "from google.colab import files\n",
        "uploaded = files.upload()"
      ],
      "execution_count": 0,
      "outputs": []
    },
    {
      "cell_type": "code",
      "metadata": {
        "id": "S7awdB-vLBwY",
        "colab_type": "code",
        "colab": {}
      },
      "source": [
        "#Save uploaded file on the Virtual Machine's  \n",
        "\n",
        "with open(\"lead_score_B2B_SaaS_to_do (3).csv\", 'w') as f:\n",
        "    f.write(uploaded[uploaded.keys()[0]])"
      ],
      "execution_count": 0,
      "outputs": []
    },
    {
      "cell_type": "code",
      "metadata": {
        "id": "4_O-3S1yLXEC",
        "colab_type": "code",
        "colab": {}
      },
      "source": [
        "# Once your file is on the Virtual Machine, you can check if the file is there.\n",
        "!ls"
      ],
      "execution_count": 0,
      "outputs": []
    },
    {
      "cell_type": "markdown",
      "metadata": {
        "id": "PiA8v_81Pa26",
        "colab_type": "text"
      },
      "source": [
        "\n",
        "<br><br>\n",
        "### <font color=Darkred>**3. Declare the dataset as a data frame and visualise it**</font>"
      ]
    },
    {
      "cell_type": "code",
      "metadata": {
        "id": "ob1ONwsfPgv-",
        "colab_type": "code",
        "colab": {}
      },
      "source": [
        "ls_data=pd.read_csv(\"lead_score_B2B_SaaS_to_do (3).csv\")    # This imports the dataset as a dataframe\n",
        "ls_data.head(10)      # This shows the first 10 rows of the data frame"
      ],
      "execution_count": 0,
      "outputs": []
    },
    {
      "cell_type": "code",
      "metadata": {
        "id": "TMyXkKiyaKDL",
        "colab_type": "code",
        "colab": {}
      },
      "source": [
        "ls_data.shape # It contains 4999 rows and 15 columns."
      ],
      "execution_count": 0,
      "outputs": []
    },
    {
      "cell_type": "markdown",
      "metadata": {
        "id": "dTTeuDdImczX",
        "colab_type": "text"
      },
      "source": [
        "<br><br>\n",
        "Let's also see which types of variables we have. \n",
        "\n",
        "There are two main types of **numerical** variables:\n",
        "\n",
        "*   A *float* is a number that has a decimal point,\n",
        "*   An *int* is a number without a decimal point.\n",
        "\n",
        "\n",
        "**Categorical** or string variables are of two types\n",
        "\n",
        "* An *object* is text labeling many categories,\n",
        "* A *boolean* indicates a binomial variable (True, False; Yes/No etc) "
      ]
    },
    {
      "cell_type": "code",
      "metadata": {
        "id": "5i-my27LmT1j",
        "colab_type": "code",
        "colab": {}
      },
      "source": [
        "ls_data.dtypes"
      ],
      "execution_count": 0,
      "outputs": []
    },
    {
      "cell_type": "markdown",
      "metadata": {
        "id": "fcwwBKHIEIPF",
        "colab_type": "text"
      },
      "source": [
        "<br><br>\n",
        "To produce Descriptive Statistics and the Model later on, we have to convert the categorical variables (*object* and *boolean*) into a numerical representation.<br>\n",
        "This is called _One-hot Encoding_"
      ]
    },
    {
      "cell_type": "code",
      "metadata": {
        "colab_type": "code",
        "id": "UqA_QrdllxaN",
        "colab": {}
      },
      "source": [
        "ls_data = pd.read_csv(\"lead_score_B2B_SaaS_to_do (3).csv\",\n",
        "                   dtype={\"tag_b2c\": object, \n",
        "                          \"subscribed_newsletter\": object,\n",
        "                          \"clicked_last_email_link\": object,\n",
        "                          \"webinar_attended\": object,\n",
        "                          \"downloaded_ebook\": object,\n",
        "                          \"visited_pricing_page\": object,\n",
        "                          \"qualified_lead\": object                         \n",
        "                         },\n",
        "                   index_col=\"hashed_id\")  # This indicates that the column \"hashed_id\"is the index column\n",
        "\n",
        "ls_data = pd.get_dummies(ls_data,drop_first=True) # This hot-encodes the categorical variables\n",
        "ls_data.head(10)"
      ],
      "execution_count": 0,
      "outputs": []
    },
    {
      "cell_type": "markdown",
      "metadata": {
        "id": "tz6J7Xehcl6C",
        "colab_type": "text"
      },
      "source": [
        "<br><br>\n",
        "### <font color=Darkred>**4. Take a look at the descriptive stats**</font>\n",
        "\n",
        "* What is the average number of days since registration?  \n",
        "* What is the maximum number of days since last session?\n",
        "* What is the country with most registered users?\n",
        "* What is the proportion of users who have registered to the newsletter?\n",
        "* What is the rate of qualified leads?"
      ]
    },
    {
      "cell_type": "code",
      "metadata": {
        "id": "-ZqolzhidG8J",
        "colab_type": "code",
        "colab": {}
      },
      "source": [
        "ls_data.describe().round(2)"
      ],
      "execution_count": 0,
      "outputs": []
    },
    {
      "cell_type": "code",
      "metadata": {
        "id": "KCblguTej3CQ",
        "colab_type": "code",
        "colab": {}
      },
      "source": [
        "# Create a histogram to observe the distribution of Recency (Days since last session)\n",
        "ls_data['days_since_last_session'].hist(color='red', alpha=0.5, bins=20)\n",
        "\n",
        "# Add labels\n",
        "plt.title('Histogram')\n",
        "plt.xlabel('Days Since Last Session')\n",
        "plt.ylabel('Frequency')"
      ],
      "execution_count": 0,
      "outputs": []
    },
    {
      "cell_type": "markdown",
      "metadata": {
        "id": "mT-5OW42hccV",
        "colab_type": "text"
      },
      "source": [
        "<br><br>\n",
        "### <font color=Darkred>5. Declare the outcome variable ($y$) and the set of features ($X_i$)</font>"
      ]
    },
    {
      "cell_type": "code",
      "metadata": {
        "id": "1lXtpryLhg6j",
        "colab_type": "code",
        "colab": {}
      },
      "source": [
        "y = ls_data.loc[:,\"qualified_lead_TRUE\"].values\n",
        "y.shape"
      ],
      "execution_count": 0,
      "outputs": []
    },
    {
      "cell_type": "code",
      "metadata": {
        "id": "-P_Fkq9Ph5t7",
        "colab_type": "code",
        "colab": {}
      },
      "source": [
        "X = ls_data.loc[:,\"days_since_registration\":\"visited_pricing_page_TRUE\"].astype(\"float64\")\n",
        "X.shape"
      ],
      "execution_count": 0,
      "outputs": []
    },
    {
      "cell_type": "markdown",
      "metadata": {
        "id": "bFcSM4Cf6m8n",
        "colab_type": "text"
      },
      "source": [
        "<br><br>\n",
        "### <font color=Darkred>6. Set up the Training and Testing set</font>"
      ]
    },
    {
      "cell_type": "code",
      "metadata": {
        "id": "KWz9G6VX7ptU",
        "colab_type": "code",
        "colab": {}
      },
      "source": [
        "# The scikit-learn library implements a set of machine learning process \n",
        "!pip install -U scikit-learn\n",
        "from sklearn.model_selection import train_test_split\n",
        "\n",
        "# Fix random seed for reproducibility\n",
        "seed = 1337\n",
        "np.random.seed(seed)\n",
        "\n",
        "# Set the train ratio to 70%\n",
        "X_train, X_test, y_train, y_test = train_test_split(X, y, test_size = 0.30)"
      ],
      "execution_count": 0,
      "outputs": []
    },
    {
      "cell_type": "code",
      "metadata": {
        "id": "K3-_wPAC9epU",
        "colab_type": "code",
        "colab": {}
      },
      "source": [
        "# Let's check the number of cases in which there is a qualified lead training set\n",
        "from collections import Counter\n",
        "print('Training dataset shape {}'.format(Counter(y_train)))"
      ],
      "execution_count": 0,
      "outputs": []
    },
    {
      "cell_type": "markdown",
      "metadata": {
        "id": "K0cQdkroTKIj",
        "colab_type": "text"
      },
      "source": [
        "*There* are 3499 users in the training set. Of these, 387 are qualified leads.\n",
        "<br> \n",
        "In order to balance the training data, we can oversample the minority class by picking samples at random with replacement."
      ]
    },
    {
      "cell_type": "code",
      "metadata": {
        "id": "IGH5HgCGOKNh",
        "colab_type": "code",
        "colab": {}
      },
      "source": [
        "# The imblearn.over_sampling provides a set of methods to perform over-sampling.\n",
        "!pip install -U imbalanced-learn \n",
        "from imblearn.over_sampling import RandomOverSampler \n"
      ],
      "execution_count": 0,
      "outputs": []
    },
    {
      "cell_type": "code",
      "metadata": {
        "id": "ghwz6vWxW-AZ",
        "colab_type": "code",
        "colab": {}
      },
      "source": [
        "# Random over-sampler\n",
        "ros = RandomOverSampler()\n",
        ">>> X_resampled, y_resampled = ros.fit_sample(X_train, y_train)\n",
        ">>> print('Resampled dataset shape {}'.format(Counter(y_resampled)))"
      ],
      "execution_count": 0,
      "outputs": []
    },
    {
      "cell_type": "markdown",
      "metadata": {
        "id": "zozIO57f9kGU",
        "colab_type": "text"
      },
      "source": [
        "Now we have equal number of cases for qualified and non-qualified leads.\n",
        "\n",
        "<br>\n",
        "Our features are measured in different units (e.g. days since last session in days, categorical variables are binomial), but it is a general requirement for many machine learning algorithms, including neural networks, to have them in the same scale.\n",
        "\n",
        "Let's use the so-called **Min-Max scaling** (often also simply called “normalization”). In this approach, the data is scaled to a fixed range - usually 0 to 1."
      ]
    },
    {
      "cell_type": "code",
      "metadata": {
        "id": "qwMrzU-rIKTh",
        "colab_type": "code",
        "colab": {}
      },
      "source": [
        "# Feature Scaling\n",
        "from sklearn.preprocessing import MinMaxScaler\n",
        "sc = MinMaxScaler()\n",
        "X_train = sc.fit_transform(X_resampled)\n",
        "X_test = sc.fit_transform(X_test)\n",
        "y_train = y_resampled"
      ],
      "execution_count": 0,
      "outputs": []
    },
    {
      "cell_type": "markdown",
      "metadata": {
        "id": "C-oycnVyCL4K",
        "colab_type": "text"
      },
      "source": [
        "<br><br>\n",
        "### <font color=Darkred>7. Start Keras</font>\n",
        "Keras is a high level API for building Artificial Neural Networks. It uses Tensorflow for it’s under-the-hood operations. \n",
        "\n",
        "To install Keras, you must have Tensorflow installed on your machine. Colaboratory has Tensorflow already installed on the Virtual Machine."
      ]
    },
    {
      "cell_type": "code",
      "metadata": {
        "id": "4KUUBK-Fl5yE",
        "colab_type": "code",
        "colab": {}
      },
      "source": [
        "# To determine which version of TensorFlow the virtual machine is using... \n",
        "!pip show tensorflow"
      ],
      "execution_count": 0,
      "outputs": []
    },
    {
      "cell_type": "code",
      "metadata": {
        "id": "6wUKwYWB9m-_",
        "colab_type": "code",
        "colab": {}
      },
      "source": [
        "# Importing the Keras libraries and packages.\n",
        "!pip install -q keras\n",
        "import keras\n",
        "from keras import regularizers # Specifies the type of regularization\n",
        "from keras.models import Sequential # Specifies the model\n",
        "from keras.layers import Dense # Specifies the layers \n",
        "from keras.wrappers.scikit_learn import KerasClassifier # Returns the constructed neural network model for training\n",
        "from keras.models import load_model # Enables saving and reloading a pre-trained model\n",
        "\n",
        "# Install and import TensorBoard for Colaboratory\n",
        "!pip install -U tensorboardcolab\n",
        "from tensorboardcolab import TensorBoardColab, TensorBoardColabCallback\n",
        "tbc=TensorBoardColab() # TensorFlow tool to visualize and explore your models\n",
        "\n",
        "# More scikit-learn libraries and packages.\n",
        "from sklearn.metrics import roc_curve\n",
        "from sklearn.metrics import auc\n",
        "from sklearn.metrics import confusion_matrix\n",
        "from sklearn.metrics import precision_recall_curve\n",
        "\n"
      ],
      "execution_count": 0,
      "outputs": []
    },
    {
      "cell_type": "markdown",
      "metadata": {
        "id": "UBpyTFRU6Y0Y",
        "colab_type": "text"
      },
      "source": [
        "<br><br>\n",
        "### <font color=Darkred>8. Define the Neural Network model</font>"
      ]
    },
    {
      "cell_type": "markdown",
      "metadata": {
        "id": "xg5C8OVU8pZf",
        "colab_type": "text"
      },
      "source": [
        "Let's start with an example of baseline model of a simple network with:\n",
        "\n",
        "* One hidden layer (shallow) containing 100 neurons;\n",
        "* Rectifier activation function (ReLU);\n",
        "* L2 regularization ($\\lambda$= 0.001);\n",
        "* Adam optimizer.\n",
        "<br><br>\n",
        "\n",
        "In summary:\n",
        "\n",
        "<font color=Darkblue>10 inputs </font>  $\\rightarrow$ <font color=Darkblue>Hidden layer[ReLU: 100 nodes] </font> $\\rightarrow$ <font color=Darkblue>2 outputs: Yes = 1, No = 0</font>\n",
        "\n",
        "<br>Below, see an example of how to code it."
      ]
    },
    {
      "cell_type": "markdown",
      "metadata": {
        "id": "UvLkt0F5CM84",
        "colab_type": "text"
      },
      "source": [
        "```python\n",
        "# Define baseline model \n",
        "def baseline_model():\n",
        "\t# create model\n",
        "\tmodel = Sequential()\n",
        "\tmodel.add(Dense(100, input_dim=27, kernel_regularizer=regularizers.l2(0.001), activation='relu')  # Hidden layer\n",
        "\tmodel.add(Dense(1, activation='sigmoid')) #Output layer\n",
        "\t# Compile model\n",
        "\tmodel.compile(loss='binary_crossentropy', optimizer='adam', metrics=['accuracy'])\n",
        "```"
      ]
    },
    {
      "cell_type": "markdown",
      "metadata": {
        "id": "T90hWg8uG06S",
        "colab_type": "text"
      },
      "source": [
        "<br>\n",
        "Now, in order to build a deep neural network with:\n",
        "\n",
        "* Two hidden layers, each one containing respectively 100 and 50 neurons;\n",
        "* Rectifier activation function (ReLU) in the hidden layers;\n",
        "* L2 regularization ( 𝜆 = 0.001);\n",
        "* Adam optimizer;\n",
        "\n",
        "<br>\n",
        "In summary:\n",
        "\n",
        "<font color=Darkblue>10 inputs </font>  $\\rightarrow$ <font color=Darkblue>Hidden layers[ReLU: 100 nodes, 50 nodes] </font> $\\rightarrow$  <font color=Darkblue>2 outputs: Yes = 1, No = 0</font>\n",
        "\n",
        "<br>Execute the code below."
      ]
    },
    {
      "cell_type": "code",
      "metadata": {
        "id": "eihnR6CFIlZo",
        "colab_type": "code",
        "colab": {}
      },
      "source": [
        "# Define the neural net model \n",
        "def nnet_model():\n",
        "    # Create model\n",
        "    model = Sequential()\n",
        "    model.add(Dense(100, input_dim = 27,\n",
        "                    kernel_regularizer=regularizers.l2(0.001), \n",
        "                    activation='relu'))  #First hidden layer\n",
        "    model.add(Dense(50, \n",
        "                    kernel_regularizer=regularizers.l2(0.001),\n",
        "                    activation='relu'))  #Second hidden layer\n",
        "    model.add(Dense(1, \n",
        "                    activation='sigmoid')) #Output layer\n",
        "    \n",
        "    # Compile model\n",
        "    model.compile(loss='binary_crossentropy', optimizer='adam', metrics=['accuracy'])\n",
        "    return model"
      ],
      "execution_count": 0,
      "outputs": []
    },
    {
      "cell_type": "code",
      "metadata": {
        "id": "AWVwUtk01L4Z",
        "colab_type": "code",
        "colab": {}
      },
      "source": [
        "# Get a summary of the model\n",
        "model = nnet_model()\n",
        "model.summary()"
      ],
      "execution_count": 0,
      "outputs": []
    },
    {
      "cell_type": "markdown",
      "metadata": {
        "id": "O4Vd1aQ4d1IR",
        "colab_type": "text"
      },
      "source": [
        "<br><br>\n",
        "### <font color=Darkred>9. Train the model</font>"
      ]
    },
    {
      "cell_type": "code",
      "metadata": {
        "id": "1zOunemtr-8c",
        "colab_type": "code",
        "colab": {}
      },
      "source": [
        "train_hist = model.fit(X_train, y_train, validation_split=0.30, \n",
        "                       epochs=400, batch_size=200, verbose=1, \n",
        "                       callbacks=[TensorBoardColabCallback(tbc)])\n",
        "\n",
        "# While the model is trained we can follow its learning history (verbose=1)"
      ],
      "execution_count": 0,
      "outputs": []
    },
    {
      "cell_type": "code",
      "metadata": {
        "id": "M5lE3jBnwINq",
        "colab_type": "code",
        "colab": {}
      },
      "source": [
        "# summarize history for accuracy\n",
        "print(train_hist.history.keys())\n",
        "plt.plot(train_hist.history['acc'])\n",
        "plt.plot(train_hist.history['val_acc'])\n",
        "plt.title('model accuracy')\n",
        "plt.ylabel('accuracy')\n",
        "plt.xlabel('epoch')\n",
        "plt.legend(['train', 'validation'], loc='upper left')\n",
        "plt.show()"
      ],
      "execution_count": 0,
      "outputs": []
    },
    {
      "cell_type": "code",
      "metadata": {
        "id": "lQ80LKcxwlkF",
        "colab_type": "code",
        "colab": {}
      },
      "source": [
        "# summarize history for loss\n",
        "plt.plot(train_hist.history['loss'])\n",
        "plt.plot(train_hist.history['val_loss'])\n",
        "plt.title('model loss')\n",
        "plt.ylabel('loss')\n",
        "plt.xlabel('epoch')\n",
        "plt.legend(['train', 'validation'], loc='upper left')\n",
        "plt.show()"
      ],
      "execution_count": 0,
      "outputs": []
    },
    {
      "cell_type": "markdown",
      "metadata": {
        "id": "ajFpLM59EB01",
        "colab_type": "text"
      },
      "source": [
        "<br><br>\n",
        "### <font color=Darkred>10. Evaluate the model in the test set</font>"
      ]
    },
    {
      "cell_type": "code",
      "metadata": {
        "id": "yf5a2H1PhBbK",
        "colab_type": "code",
        "colab": {}
      },
      "source": [
        "accuracy = model.evaluate(X_test, y_test, batch_size=200)\n",
        "print(\"%s: %.2f%%\" % (model.metrics_names[1], accuracy[1]*100))"
      ],
      "execution_count": 0,
      "outputs": []
    },
    {
      "cell_type": "markdown",
      "metadata": {
        "id": "SJRL2I1-54ZV",
        "colab_type": "text"
      },
      "source": [
        "Then, we use the model on the reserved test data to generate the probability values.\n",
        "<br>"
      ]
    },
    {
      "cell_type": "code",
      "metadata": {
        "id": "hZr-2Sq16PE1",
        "colab_type": "code",
        "colab": {}
      },
      "source": [
        "# Predict the test set results as probabilities\n",
        "y_score = model.predict(X_test).ravel()"
      ],
      "execution_count": 0,
      "outputs": []
    },
    {
      "cell_type": "markdown",
      "metadata": {
        "id": "zi1b6UKYeMQh",
        "colab_type": "text"
      },
      "source": [
        "After that, we use the probabilities and ground true labels to generate two data array pairs necessary to plot an ROC curve:\n",
        "\n",
        "* ```fpr```: false positive rates for each possible threshold;\n",
        "<br>\n",
        "* ```tpr```: true positive rates for each possible threshold.\n",
        "<br><br>We can call the ```roc_curve()``` function to generate the two. Here is the code to make this happen:"
      ]
    },
    {
      "cell_type": "code",
      "metadata": {
        "id": "K-J2dsIFeAR6",
        "colab_type": "code",
        "colab": {}
      },
      "source": [
        "# Generating true positives and false positives\n",
        "fpr_nnet, tpr_nnet, thresholds = roc_curve(y_test, y_score)\n",
        "\n",
        "# The area under the curve (AUC) value can also be calculated \n",
        "auc_nnet = auc(fpr_nnet, tpr_nnet)\n",
        "print(\" Test ROC AUC: %0.3f \" % auc_nnet.round(3))"
      ],
      "execution_count": 0,
      "outputs": []
    },
    {
      "cell_type": "code",
      "metadata": {
        "id": "VWDSgzB9iE01",
        "colab_type": "code",
        "colab": {}
      },
      "source": [
        "# Generate a ROC AUC chart\n",
        "plt.figure(1)\n",
        "plt.plot([0, 1], [0, 1], 'k--')\n",
        "plt.plot(fpr_nnet, tpr_nnet, label='[ReLU: 100, 50] (area = {:.3f})'.format(auc_nnet))\n",
        "plt.xlabel('False positive rate')\n",
        "plt.ylabel('True positive rate')\n",
        "plt.title('ROC curve')\n",
        "plt.legend(loc='best')\n",
        "plt.show()"
      ],
      "execution_count": 0,
      "outputs": []
    },
    {
      "cell_type": "code",
      "metadata": {
        "id": "STNffD2bF3d_",
        "colab_type": "code",
        "colab": {}
      },
      "source": [
        "# Plot the Precision-Recall curve\n",
        "precision, recall, _ = precision_recall_curve(y_test, y_score)\n",
        "\n",
        "plt.step(recall, precision, color='b', alpha=0.2,\n",
        "         where='post')\n",
        "plt.fill_between(recall, precision, step='post', alpha=0.2,\n",
        "                 color='b')\n",
        "\n",
        "plt.xlabel('Recall')\n",
        "plt.ylabel('Precision')\n",
        "plt.ylim([0.0, 1.0])\n",
        "plt.xlim([0.0, 1.0])\n",
        "plt.title('Precision-Recall curve');"
      ],
      "execution_count": 0,
      "outputs": []
    },
    {
      "cell_type": "code",
      "metadata": {
        "id": "5XVmoQ9hMuoJ",
        "colab_type": "code",
        "colab": {}
      },
      "source": [
        "# Building the Confusion Matrix\n",
        "y_pred = (y_score>0.8)\n",
        "cm = confusion_matrix(y_test, y_pred)  \n",
        "cm"
      ],
      "execution_count": 0,
      "outputs": []
    },
    {
      "cell_type": "markdown",
      "metadata": {
        "id": "2bnCjWnAL7Qt",
        "colab_type": "text"
      },
      "source": [
        "This is how to read it: \n",
        "*  True Negatives = top left;\n",
        "*  False Negatives = the bottom left;\n",
        "*  False Positives = top right;\n",
        "*  True Positives = bottom right."
      ]
    },
    {
      "cell_type": "markdown",
      "metadata": {
        "id": "BX83q-5XrHGa",
        "colab_type": "text"
      },
      "source": [
        "<br>Finally, you can save the model..."
      ]
    },
    {
      "cell_type": "code",
      "metadata": {
        "id": "7y8UL1Vy_6lG",
        "colab_type": "code",
        "colab": {}
      },
      "source": [
        "!pip install h5py\n",
        "model.save('nnet_DDMMYY.h5')\n",
        "!ls # To check whether the model has been saved to your virtual machine datalab."
      ],
      "execution_count": 0,
      "outputs": []
    },
    {
      "cell_type": "code",
      "metadata": {
        "id": "F0X5nWlbEU3J",
        "colab_type": "code",
        "colab": {}
      },
      "source": [
        "!ls"
      ],
      "execution_count": 0,
      "outputs": []
    }
  ]
}